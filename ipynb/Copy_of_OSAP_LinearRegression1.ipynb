{
  "nbformat": 4,
  "nbformat_minor": 0,
  "metadata": {
    "colab": {
      "provenance": []
    },
    "kernelspec": {
      "name": "python3",
      "display_name": "Python 3"
    },
    "language_info": {
      "name": "python"
    }
  },
  "cells": [
    {
      "cell_type": "markdown",
      "source": [
        "This example is motivated from an example where a carefully chose snapshot of data was used to prove that global temperatures are not increasing with time. \n",
        "\n",
        "You will solve linear regression (ax+b) for two snapshots of data to see if there is an average increase of tempearture with time or not."
      ],
      "metadata": {
        "id": "zyhxoD34plpu"
      }
    },
    {
      "cell_type": "code",
      "execution_count": null,
      "metadata": {
        "id": "Dtn5afpwICOM"
      },
      "outputs": [],
      "source": [
        "import pandas as pd\n",
        "import numpy as np\n",
        "import matplotlib.pyplot as plt"
      ]
    },
    {
      "cell_type": "code",
      "source": [
        "#data from: https://www.jpl.nasa.gov/edu/teach/activity/graphing-global-temperature-trends/\n",
        "!wget -O globalTemp.csv https://www.dropbox.com/s/w5n763mnroln66v/globalTemp.csv?dl=0"
      ],
      "metadata": {
        "colab": {
          "base_uri": "https://localhost:8080/"
        },
        "id": "ffjTwZt8INlB",
        "outputId": "519a38c6-d933-4a36-d0b6-5fbc1c9226df"
      },
      "execution_count": null,
      "outputs": [
        {
          "output_type": "stream",
          "name": "stdout",
          "text": [
            "--2023-03-08 01:57:20--  https://www.dropbox.com/s/w5n763mnroln66v/globalTemp.csv?dl=0\n",
            "Resolving www.dropbox.com (www.dropbox.com)... 162.125.5.18, 2620:100:601d:18::a27d:512\n",
            "Connecting to www.dropbox.com (www.dropbox.com)|162.125.5.18|:443... connected.\n",
            "HTTP request sent, awaiting response... 302 Found\n",
            "Location: /s/raw/w5n763mnroln66v/globalTemp.csv [following]\n",
            "--2023-03-08 01:57:21--  https://www.dropbox.com/s/raw/w5n763mnroln66v/globalTemp.csv\n",
            "Reusing existing connection to www.dropbox.com:443.\n",
            "HTTP request sent, awaiting response... 302 Found\n",
            "Location: https://uc58314796cbf4facaadcad8fde4.dl-eu.dropboxusercontent.com/cd/0/inline/B33Gjru2j8MYxcKT6vL3nmepo8Lc9EoTUjCgnPqxDRrGc8LerDWRongrvkOdcVoMjze0h77WdVOr84wPTc0IaNnYuiffZoNr-Yfdnvo8DMRQjPVu3PUN39GHmb4bA6bAN8APgYLJXCT0JNcTFfxo1L1ZcdEb1uffDaLHzIHM8cfEZQ/file# [following]\n",
            "--2023-03-08 01:57:21--  https://uc58314796cbf4facaadcad8fde4.dl-eu.dropboxusercontent.com/cd/0/inline/B33Gjru2j8MYxcKT6vL3nmepo8Lc9EoTUjCgnPqxDRrGc8LerDWRongrvkOdcVoMjze0h77WdVOr84wPTc0IaNnYuiffZoNr-Yfdnvo8DMRQjPVu3PUN39GHmb4bA6bAN8APgYLJXCT0JNcTFfxo1L1ZcdEb1uffDaLHzIHM8cfEZQ/file\n",
            "Resolving uc58314796cbf4facaadcad8fde4.dl-eu.dropboxusercontent.com (uc58314796cbf4facaadcad8fde4.dl-eu.dropboxusercontent.com)... 162.125.5.15, 2620:100:601d:15::a27d:50f\n",
            "Connecting to uc58314796cbf4facaadcad8fde4.dl-eu.dropboxusercontent.com (uc58314796cbf4facaadcad8fde4.dl-eu.dropboxusercontent.com)|162.125.5.15|:443... connected.\n",
            "HTTP request sent, awaiting response... 200 OK\n",
            "Length: 2950 (2.9K) [text/plain]\n",
            "Saving to: ‘globalTemp.csv’\n",
            "\n",
            "globalTemp.csv      100%[===================>]   2.88K  --.-KB/s    in 0s      \n",
            "\n",
            "2023-03-08 01:57:22 (332 MB/s) - ‘globalTemp.csv’ saved [2950/2950]\n",
            "\n"
          ]
        }
      ]
    },
    {
      "cell_type": "code",
      "source": [
        "df=pd.read_csv('globalTemp.csv')"
      ],
      "metadata": {
        "id": "jv1hb3IWIdUm"
      },
      "execution_count": null,
      "outputs": []
    },
    {
      "cell_type": "code",
      "source": [
        "x = df['Year'].to_numpy()\n",
        "y = df['Actual Temp'].to_numpy()"
      ],
      "metadata": {
        "id": "wjtbGAitIncx"
      },
      "execution_count": null,
      "outputs": []
    },
    {
      "cell_type": "code",
      "source": [
        "from sklearn.model_selection import train_test_split\n",
        "x_train, x_test, y_train, y_test = train_test_split(x, y, train_size=0.2)"
      ],
      "metadata": {
        "id": "T8R0G615A0iK"
      },
      "execution_count": null,
      "outputs": []
    },
    {
      "cell_type": "code",
      "source": [
        "from sklearn.linear_model import LinearRegression\n",
        "reg = LinearRegression().fit(x_train.values.rshape(-1,1), y_train )"
      ],
      "metadata": {
        "id": "PecByGUP8DeE",
        "outputId": "c2e6af65-6d88-4530-d421-24347efa76c0",
        "colab": {
          "base_uri": "https://localhost:8080/",
          "height": 182
        }
      },
      "execution_count": null,
      "outputs": [
        {
          "output_type": "error",
          "ename": "AttributeError",
          "evalue": "ignored",
          "traceback": [
            "\u001b[0;31m---------------------------------------------------------------------------\u001b[0m",
            "\u001b[0;31mAttributeError\u001b[0m                            Traceback (most recent call last)",
            "\u001b[0;32m<ipython-input-21-cf1377c8d4a8>\u001b[0m in \u001b[0;36m<module>\u001b[0;34m\u001b[0m\n\u001b[1;32m      1\u001b[0m \u001b[0;32mfrom\u001b[0m \u001b[0msklearn\u001b[0m\u001b[0;34m.\u001b[0m\u001b[0mlinear_model\u001b[0m \u001b[0;32mimport\u001b[0m \u001b[0mLinearRegression\u001b[0m\u001b[0;34m\u001b[0m\u001b[0;34m\u001b[0m\u001b[0m\n\u001b[0;32m----> 2\u001b[0;31m \u001b[0mreg\u001b[0m \u001b[0;34m=\u001b[0m \u001b[0mLinearRegression\u001b[0m\u001b[0;34m(\u001b[0m\u001b[0;34m)\u001b[0m\u001b[0;34m.\u001b[0m\u001b[0mfit\u001b[0m\u001b[0;34m(\u001b[0m\u001b[0mx_train\u001b[0m\u001b[0;34m.\u001b[0m\u001b[0mvalues\u001b[0m\u001b[0;34m.\u001b[0m\u001b[0mrshape\u001b[0m\u001b[0;34m(\u001b[0m\u001b[0;34m-\u001b[0m\u001b[0;36m1\u001b[0m\u001b[0;34m,\u001b[0m\u001b[0;36m1\u001b[0m\u001b[0;34m)\u001b[0m\u001b[0;34m,\u001b[0m \u001b[0my_train\u001b[0m \u001b[0;34m)\u001b[0m\u001b[0;34m\u001b[0m\u001b[0;34m\u001b[0m\u001b[0m\n\u001b[0m",
            "\u001b[0;31mAttributeError\u001b[0m: 'numpy.ndarray' object has no attribute 'values'"
          ]
        }
      ]
    },
    {
      "cell_type": "code",
      "source": [
        "#linear Regression code for Data in the cell above"
      ],
      "metadata": {
        "id": "-j6VCeWNmIjL"
      },
      "execution_count": null,
      "outputs": []
    },
    {
      "cell_type": "code",
      "source": [
        "df=df[(df['Year']>1943) & (df['Year']<1975)]\n",
        "x = df['Year'].to_numpy()\n",
        "y = df['Actual Temp'].to_numpy()"
      ],
      "metadata": {
        "id": "T2mwBDMeIfBX"
      },
      "execution_count": null,
      "outputs": []
    },
    {
      "cell_type": "code",
      "source": [
        "#linear Regression code for the Data in the cell above"
      ],
      "metadata": {
        "id": "7uBvmzeslxaN"
      },
      "execution_count": null,
      "outputs": []
    }
  ]
}