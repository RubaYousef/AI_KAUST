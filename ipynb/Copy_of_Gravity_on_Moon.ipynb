{
  "nbformat": 4,
  "nbformat_minor": 0,
  "metadata": {
    "colab": {
      "provenance": []
    },
    "kernelspec": {
      "name": "python3",
      "display_name": "Python 3"
    },
    "language_info": {
      "name": "python"
    }
  },
  "cells": [
    {
      "cell_type": "markdown",
      "source": [
        "Expectation: A working solution where the learned function using Linear Regression is close to the training data points.\n",
        "\n",
        "Finding the value of gravity by comparing the equation of motion and the hypthesis function.\n",
        "\n"
      ],
      "metadata": {
        "id": "p-Nx5dlzhINZ"
      }
    },
    {
      "cell_type": "code",
      "metadata": {
        "colab": {
          "base_uri": "https://localhost:8080/",
          "height": 282
        },
        "id": "cx4pkfo5xeEv",
        "outputId": "e3daa363-f796-4f72-bdda-8a4ffdd9a60b"
      },
      "source": [
        "#[Fictional Story] The astronauts on moon wanted to measure the value of gravity on the moon. The decide to throw a spanner \n",
        "#from different heights and measure the time needed to cover the distance and based on these values want to extract the value of \n",
        "#gravity on moon. The values might be slightly off due to human error and the (very thin) moon atmosphere. Use linear regression to \n",
        "#find the value of gravity on the moon.\n",
        "\n",
        "\n",
        "\n",
        "import matplotlib.pyplot as plt\n",
        "import numpy as np\n",
        "\n",
        "gmoon=9.8/6\n",
        "# t= time   s= distance\n",
        "t=np.linspace(1,3,20)\n",
        "s=0.5*gmoon*t**2 + 0.05*np.random.randn(t.size)\n",
        "plt.plot(t,s,'.')"
      ],
      "execution_count": null,
      "outputs": [
        {
          "output_type": "execute_result",
          "data": {
            "text/plain": [
              "[<matplotlib.lines.Line2D at 0x7f580acded00>]"
            ]
          },
          "metadata": {},
          "execution_count": 2
        },
        {
          "output_type": "display_data",
          "data": {
            "text/plain": [
              "<Figure size 432x288 with 1 Axes>"
            ],
            "image/png": "[encoded data removed]"
          },
          "metadata": {
            "needs_background": "light"
          }
        }
      ]
    },
    {
      "cell_type": "code",
      "source": [
        "#fit a line to the data \n",
        "m, b = np.polyfit(t, s, 1)\n",
        "print(m)\n",
        "print(b)\n",
        "# copute estimated values of using fitting line \n",
        "s_est = m*t +b\n",
        "\n",
        "plt.plot(t, s, '.', label = 'data')\n",
        "plt.plot(t, s_est, '-', label = 'fitting line')\n",
        "plt.xlabel('time sec')\n",
        "plt.ylabel('distance m')\n",
        "plt.legend()\n",
        "plt.show()"
      ],
      "metadata": {
        "id": "Xf7cSXLFXUJa",
        "outputId": "0653bb0a-fb96-4777-b575-31c62e349a57",
        "colab": {
          "base_uri": "https://localhost:8080/",
          "height": 314
        }
      },
      "execution_count": null,
      "outputs": [
        {
          "output_type": "stream",
          "name": "stdout",
          "text": [
            "3.2892675868113765\n",
            "-3.0197935593898455\n"
          ]
        },
        {
          "output_type": "display_data",
          "data": {
            "text/plain": [
              "<Figure size 432x288 with 1 Axes>"
            ],
            "image/png": "[encoded data removed]"
          },
          "metadata": {
            "needs_background": "light"
          }
        }
      ]
    }
  ]
}