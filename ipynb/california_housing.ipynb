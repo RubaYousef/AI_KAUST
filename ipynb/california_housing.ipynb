{
  "cells": [
    {
      "cell_type": "code",
      "execution_count": 61,
      "metadata": {
        "id": "z8_yPTRmHQnB"
      },
      "outputs": [],
      "source": [
        "import matplotlib.pyplot as plt\n",
        "import numpy as np\n",
        "from sklearn import datasets, model_selection, preprocessing"
      ]
    },
    {
      "cell_type": "code",
      "execution_count": 62,
      "metadata": {
        "id": "zntwWVEGHW65"
      },
      "outputs": [],
      "source": [
        "# datasets.fetch_california_housing?\n",
        "features, targets = datasets.fetch_california_housing(return_X_y=True, as_frame=True)\n",
        "features.info() \n",
        "features.describe()\n",
        "targets.describe()"
      ]
    },
    {
      "cell_type": "code",
      "execution_count": 67,
      "metadata": {
        "id": "v8FzJjV4JI0z"
      },
      "outputs": [],
      "source": [
        "X_train, X_test, y_train, y_test = model_selection.train_test_split(\n",
        "    features, targets, test_size=0.1)\n",
        "scaler = preprocessing.StandardScaler()\n",
        "X_train = scaler.fit_transform(X_train)\n",
        "X_test = scaler.fit_transform(X_test)"
      ]
    },
    {
      "cell_type": "code",
      "execution_count": 68,
      "metadata": {
        "id": "e428WZmEMewS"
      },
      "outputs": [],
      "source": [
        "def rms(y, y_hat):\n",
        "    return np.sqrt(np.mean(np.square(y - y_hat)))\n",
        "\n",
        "def linear_regression(X, y):\n",
        "    return np.linalg.solve(X.T @ X, X.T @ y) "
      ]
    },
    {
      "cell_type": "code",
      "execution_count": 69,
      "metadata": {
        "id": "jiEWbIVfNQ0V"
      },
      "outputs": [],
      "source": [
        "theta = linear_regression(X_train, y_train)"
      ]
    },
    {
      "cell_type": "code",
      "execution_count": null,
      "metadata": {
        "id": "VVJaKkb8OLui"
      },
      "outputs": [],
      "source": [
        "e = rms(y_train, X_train @ theta)\n",
        "et = rms(y_test, X_test @ theta)\n",
        "print(e, et)"
      ]
    }
  ],
  "metadata": {
    "colab": {
      "provenance": []
    },
    "kernelspec": {
      "display_name": "Python 3",
      "name": "python3"
    },
    "language_info": {
      "name": "python"
    }
  },
  "nbformat": 4,
  "nbformat_minor": 0
}
